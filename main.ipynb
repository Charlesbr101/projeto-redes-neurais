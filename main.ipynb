{
 "cells": [
  {
   "cell_type": "code",
   "execution_count": 806,
   "metadata": {},
   "outputs": [],
   "source": [
    "import pandas as pd\n",
    "from sklearn.preprocessing import OneHotEncoder, OrdinalEncoder\n",
    "from sklearn.model_selection import train_test_split\n",
    "from imblearn.over_sampling import RandomOverSampler\n",
    "import matplotlib.pyplot as plt\n",
    "import seaborn as sns\n",
    "from scipy import stats\n",
    "import numpy as np\n",
    "import math"
   ]
  },
  {
   "cell_type": "code",
   "execution_count": 807,
   "metadata": {},
   "outputs": [
    {
     "data": {
      "text/html": [
       "<div>\n",
       "<style scoped>\n",
       "    .dataframe tbody tr th:only-of-type {\n",
       "        vertical-align: middle;\n",
       "    }\n",
       "\n",
       "    .dataframe tbody tr th {\n",
       "        vertical-align: top;\n",
       "    }\n",
       "\n",
       "    .dataframe thead th {\n",
       "        text-align: right;\n",
       "    }\n",
       "</style>\n",
       "<table border=\"1\" class=\"dataframe\">\n",
       "  <thead>\n",
       "    <tr style=\"text-align: right;\">\n",
       "      <th></th>\n",
       "      <th>id</th>\n",
       "      <th>Gender</th>\n",
       "      <th>Customer Type</th>\n",
       "      <th>Age</th>\n",
       "      <th>Type of Travel</th>\n",
       "      <th>Class</th>\n",
       "      <th>Flight Distance</th>\n",
       "      <th>Inflight wifi service</th>\n",
       "      <th>Departure/Arrival time convenient</th>\n",
       "      <th>Ease of Online booking</th>\n",
       "      <th>...</th>\n",
       "      <th>Inflight entertainment</th>\n",
       "      <th>On-board service</th>\n",
       "      <th>Leg room service</th>\n",
       "      <th>Baggage handling</th>\n",
       "      <th>Checkin service</th>\n",
       "      <th>Inflight service</th>\n",
       "      <th>Cleanliness</th>\n",
       "      <th>Departure Delay in Minutes</th>\n",
       "      <th>Arrival Delay in Minutes</th>\n",
       "      <th>satisfaction</th>\n",
       "    </tr>\n",
       "  </thead>\n",
       "  <tbody>\n",
       "    <tr>\n",
       "      <th>0</th>\n",
       "      <td>70172</td>\n",
       "      <td>Male</td>\n",
       "      <td>Loyal Customer</td>\n",
       "      <td>13</td>\n",
       "      <td>Personal Travel</td>\n",
       "      <td>Eco Plus</td>\n",
       "      <td>460</td>\n",
       "      <td>3</td>\n",
       "      <td>4</td>\n",
       "      <td>3</td>\n",
       "      <td>...</td>\n",
       "      <td>5</td>\n",
       "      <td>4</td>\n",
       "      <td>3</td>\n",
       "      <td>4</td>\n",
       "      <td>4</td>\n",
       "      <td>5</td>\n",
       "      <td>5</td>\n",
       "      <td>25</td>\n",
       "      <td>18.0</td>\n",
       "      <td>neutral or dissatisfied</td>\n",
       "    </tr>\n",
       "    <tr>\n",
       "      <th>1</th>\n",
       "      <td>5047</td>\n",
       "      <td>Male</td>\n",
       "      <td>disloyal Customer</td>\n",
       "      <td>25</td>\n",
       "      <td>Business travel</td>\n",
       "      <td>Business</td>\n",
       "      <td>235</td>\n",
       "      <td>3</td>\n",
       "      <td>2</td>\n",
       "      <td>3</td>\n",
       "      <td>...</td>\n",
       "      <td>1</td>\n",
       "      <td>1</td>\n",
       "      <td>5</td>\n",
       "      <td>3</td>\n",
       "      <td>1</td>\n",
       "      <td>4</td>\n",
       "      <td>1</td>\n",
       "      <td>1</td>\n",
       "      <td>6.0</td>\n",
       "      <td>neutral or dissatisfied</td>\n",
       "    </tr>\n",
       "    <tr>\n",
       "      <th>2</th>\n",
       "      <td>110028</td>\n",
       "      <td>Female</td>\n",
       "      <td>Loyal Customer</td>\n",
       "      <td>26</td>\n",
       "      <td>Business travel</td>\n",
       "      <td>Business</td>\n",
       "      <td>1142</td>\n",
       "      <td>2</td>\n",
       "      <td>2</td>\n",
       "      <td>2</td>\n",
       "      <td>...</td>\n",
       "      <td>5</td>\n",
       "      <td>4</td>\n",
       "      <td>3</td>\n",
       "      <td>4</td>\n",
       "      <td>4</td>\n",
       "      <td>4</td>\n",
       "      <td>5</td>\n",
       "      <td>0</td>\n",
       "      <td>0.0</td>\n",
       "      <td>satisfied</td>\n",
       "    </tr>\n",
       "    <tr>\n",
       "      <th>3</th>\n",
       "      <td>24026</td>\n",
       "      <td>Female</td>\n",
       "      <td>Loyal Customer</td>\n",
       "      <td>25</td>\n",
       "      <td>Business travel</td>\n",
       "      <td>Business</td>\n",
       "      <td>562</td>\n",
       "      <td>2</td>\n",
       "      <td>5</td>\n",
       "      <td>5</td>\n",
       "      <td>...</td>\n",
       "      <td>2</td>\n",
       "      <td>2</td>\n",
       "      <td>5</td>\n",
       "      <td>3</td>\n",
       "      <td>1</td>\n",
       "      <td>4</td>\n",
       "      <td>2</td>\n",
       "      <td>11</td>\n",
       "      <td>9.0</td>\n",
       "      <td>neutral or dissatisfied</td>\n",
       "    </tr>\n",
       "    <tr>\n",
       "      <th>4</th>\n",
       "      <td>119299</td>\n",
       "      <td>Male</td>\n",
       "      <td>Loyal Customer</td>\n",
       "      <td>61</td>\n",
       "      <td>Business travel</td>\n",
       "      <td>Business</td>\n",
       "      <td>214</td>\n",
       "      <td>3</td>\n",
       "      <td>3</td>\n",
       "      <td>3</td>\n",
       "      <td>...</td>\n",
       "      <td>3</td>\n",
       "      <td>3</td>\n",
       "      <td>4</td>\n",
       "      <td>4</td>\n",
       "      <td>3</td>\n",
       "      <td>3</td>\n",
       "      <td>3</td>\n",
       "      <td>0</td>\n",
       "      <td>0.0</td>\n",
       "      <td>satisfied</td>\n",
       "    </tr>\n",
       "  </tbody>\n",
       "</table>\n",
       "<p>5 rows × 24 columns</p>\n",
       "</div>"
      ],
      "text/plain": [
       "       id  Gender      Customer Type  Age   Type of Travel     Class  \\\n",
       "0   70172    Male     Loyal Customer   13  Personal Travel  Eco Plus   \n",
       "1    5047    Male  disloyal Customer   25  Business travel  Business   \n",
       "2  110028  Female     Loyal Customer   26  Business travel  Business   \n",
       "3   24026  Female     Loyal Customer   25  Business travel  Business   \n",
       "4  119299    Male     Loyal Customer   61  Business travel  Business   \n",
       "\n",
       "   Flight Distance  Inflight wifi service  Departure/Arrival time convenient  \\\n",
       "0              460                      3                                  4   \n",
       "1              235                      3                                  2   \n",
       "2             1142                      2                                  2   \n",
       "3              562                      2                                  5   \n",
       "4              214                      3                                  3   \n",
       "\n",
       "   Ease of Online booking  ...  Inflight entertainment  On-board service  \\\n",
       "0                       3  ...                       5                 4   \n",
       "1                       3  ...                       1                 1   \n",
       "2                       2  ...                       5                 4   \n",
       "3                       5  ...                       2                 2   \n",
       "4                       3  ...                       3                 3   \n",
       "\n",
       "   Leg room service  Baggage handling  Checkin service  Inflight service  \\\n",
       "0                 3                 4                4                 5   \n",
       "1                 5                 3                1                 4   \n",
       "2                 3                 4                4                 4   \n",
       "3                 5                 3                1                 4   \n",
       "4                 4                 4                3                 3   \n",
       "\n",
       "   Cleanliness  Departure Delay in Minutes  Arrival Delay in Minutes  \\\n",
       "0            5                          25                      18.0   \n",
       "1            1                           1                       6.0   \n",
       "2            5                           0                       0.0   \n",
       "3            2                          11                       9.0   \n",
       "4            3                           0                       0.0   \n",
       "\n",
       "              satisfaction  \n",
       "0  neutral or dissatisfied  \n",
       "1  neutral or dissatisfied  \n",
       "2                satisfied  \n",
       "3  neutral or dissatisfied  \n",
       "4                satisfied  \n",
       "\n",
       "[5 rows x 24 columns]"
      ]
     },
     "execution_count": 807,
     "metadata": {},
     "output_type": "execute_result"
    }
   ],
   "source": [
    "train_df = pd.read_csv('database/train.csv', index_col=0)\n",
    "test_df = pd.read_csv('database/test.csv', index_col=0)\n",
    "train_df.head()"
   ]
  },
  {
   "cell_type": "markdown",
   "metadata": {},
   "source": [
    "# Train Validation Split"
   ]
  },
  {
   "cell_type": "code",
   "execution_count": 808,
   "metadata": {},
   "outputs": [],
   "source": [
    "original_df = train_df.drop(columns=['id'])\n",
    "test_df = test_df.drop(columns=['id'])"
   ]
  },
  {
   "cell_type": "code",
   "execution_count": 809,
   "metadata": {},
   "outputs": [
    {
     "name": "stdout",
     "output_type": "stream",
     "text": [
      "original_df:  103904\n",
      "train_df size:  77928 | validation_df size: 25976\n",
      "train_df: 0.75% | validation_df: 0.25%\n"
     ]
    }
   ],
   "source": [
    "train_df, validation_df = train_test_split(original_df,test_size= 0.25, stratify=original_df['satisfaction'])\n",
    "\n",
    "print('original_df: ',len(original_df))\n",
    "print('train_df size: ', len(train_df), \"| validation_df size:\", len(validation_df))\n",
    "print(f'train_df: {len(train_df)/len(original_df)}%', f\"| validation_df: {len(validation_df)/len(original_df)}%\",)"
   ]
  },
  {
   "cell_type": "markdown",
   "metadata": {},
   "source": [
    "# Outliers"
   ]
  },
  {
   "cell_type": "code",
   "execution_count": 810,
   "metadata": {},
   "outputs": [
    {
     "data": {
      "text/plain": [
       "<Axes: >"
      ]
     },
     "execution_count": 810,
     "metadata": {},
     "output_type": "execute_result"
    },
    {
     "data": {
      "image/png": "[encoded data removed]",
      "text/plain": [
       "<Figure size 1170x827 with 1 Axes>"
      ]
     },
     "metadata": {},
     "output_type": "display_data"
    }
   ],
   "source": [
    "train_df.reset_index(drop=True, inplace=True)\n",
    "\n",
    "cols = ['Age', 'Flight Distance', 'Departure Delay in Minutes', 'Arrival Delay in Minutes']\n",
    "\n",
    "sns.set_theme(rc={'figure.figsize':(11.7,8.27)})\n",
    "\n",
    "sns.boxplot(data=train_df[cols])"
   ]
  },
  {
   "cell_type": "code",
   "execution_count": 811,
   "metadata": {},
   "outputs": [
    {
     "name": "stdout",
     "output_type": "stream",
     "text": [
      "Original DataFrame Shape: (77928, 23)\n",
      "DataFrame Shape after Removing Outliers: (76193, 23)\n",
      "Columns with z-score > 3:  ['Age', 'Flight Distance', 'Departure Delay in Minutes']\n"
     ]
    },
    {
     "data": {
      "text/plain": [
       "<Axes: >"
      ]
     },
     "execution_count": 811,
     "metadata": {},
     "output_type": "execute_result"
    },
    {
     "data": {
      "image/png": "[encoded data removed]",
      "text/plain": [
       "<Figure size 1170x827 with 1 Axes>"
      ]
     },
     "metadata": {},
     "output_type": "display_data"
    }
   ],
   "source": [
    "print(\"Original DataFrame Shape:\", train_df.shape)\n",
    "z_score_col = []\n",
    "for cl in cols:\n",
    "    z = np.abs(stats.zscore(train_df[cl]))\n",
    "    outlier_set = (np.where(z > 3)[0])\n",
    "    train_df = train_df.drop(index=outlier_set)\n",
    "    train_df.reset_index(drop=True, inplace=True)\n",
    "    if len(outlier_set > 0):\n",
    "        z_score_col.append(cl)\n",
    "        \n",
    "    \n",
    "print(\"DataFrame Shape after Removing Outliers:\", train_df.shape)\n",
    "print('Columns with z-score > 3: ', z_score_col)\n",
    "\n",
    "sns.boxplot(data=train_df[cols])"
   ]
  },
  {
   "cell_type": "markdown",
   "metadata": {},
   "source": [
    "# Enconding"
   ]
  },
  {
   "cell_type": "markdown",
   "metadata": {},
   "source": [
    "## One Hot Enconding"
   ]
  },
  {
   "cell_type": "code",
   "execution_count": 812,
   "metadata": {},
   "outputs": [
    {
     "data": {
      "text/html": [
       "<div>\n",
       "<style scoped>\n",
       "    .dataframe tbody tr th:only-of-type {\n",
       "        vertical-align: middle;\n",
       "    }\n",
       "\n",
       "    .dataframe tbody tr th {\n",
       "        vertical-align: top;\n",
       "    }\n",
       "\n",
       "    .dataframe thead th {\n",
       "        text-align: right;\n",
       "    }\n",
       "</style>\n",
       "<table border=\"1\" class=\"dataframe\">\n",
       "  <thead>\n",
       "    <tr style=\"text-align: right;\">\n",
       "      <th></th>\n",
       "      <th>Type of Travel_Personal Travel</th>\n",
       "      <th>Gender_Male</th>\n",
       "      <th>Customer Type_disloyal Customer</th>\n",
       "    </tr>\n",
       "  </thead>\n",
       "  <tbody>\n",
       "    <tr>\n",
       "      <th>0</th>\n",
       "      <td>False</td>\n",
       "      <td>True</td>\n",
       "      <td>True</td>\n",
       "    </tr>\n",
       "    <tr>\n",
       "      <th>1</th>\n",
       "      <td>False</td>\n",
       "      <td>True</td>\n",
       "      <td>False</td>\n",
       "    </tr>\n",
       "    <tr>\n",
       "      <th>2</th>\n",
       "      <td>True</td>\n",
       "      <td>False</td>\n",
       "      <td>False</td>\n",
       "    </tr>\n",
       "    <tr>\n",
       "      <th>3</th>\n",
       "      <td>True</td>\n",
       "      <td>False</td>\n",
       "      <td>False</td>\n",
       "    </tr>\n",
       "    <tr>\n",
       "      <th>4</th>\n",
       "      <td>True</td>\n",
       "      <td>False</td>\n",
       "      <td>False</td>\n",
       "    </tr>\n",
       "    <tr>\n",
       "      <th>...</th>\n",
       "      <td>...</td>\n",
       "      <td>...</td>\n",
       "      <td>...</td>\n",
       "    </tr>\n",
       "    <tr>\n",
       "      <th>76188</th>\n",
       "      <td>True</td>\n",
       "      <td>False</td>\n",
       "      <td>False</td>\n",
       "    </tr>\n",
       "    <tr>\n",
       "      <th>76189</th>\n",
       "      <td>False</td>\n",
       "      <td>False</td>\n",
       "      <td>False</td>\n",
       "    </tr>\n",
       "    <tr>\n",
       "      <th>76190</th>\n",
       "      <td>False</td>\n",
       "      <td>False</td>\n",
       "      <td>True</td>\n",
       "    </tr>\n",
       "    <tr>\n",
       "      <th>76191</th>\n",
       "      <td>False</td>\n",
       "      <td>True</td>\n",
       "      <td>False</td>\n",
       "    </tr>\n",
       "    <tr>\n",
       "      <th>76192</th>\n",
       "      <td>False</td>\n",
       "      <td>True</td>\n",
       "      <td>False</td>\n",
       "    </tr>\n",
       "  </tbody>\n",
       "</table>\n",
       "<p>76193 rows × 3 columns</p>\n",
       "</div>"
      ],
      "text/plain": [
       "       Type of Travel_Personal Travel  Gender_Male  \\\n",
       "0                               False         True   \n",
       "1                               False         True   \n",
       "2                                True        False   \n",
       "3                                True        False   \n",
       "4                                True        False   \n",
       "...                               ...          ...   \n",
       "76188                            True        False   \n",
       "76189                           False        False   \n",
       "76190                           False        False   \n",
       "76191                           False         True   \n",
       "76192                           False         True   \n",
       "\n",
       "       Customer Type_disloyal Customer  \n",
       "0                                 True  \n",
       "1                                False  \n",
       "2                                False  \n",
       "3                                False  \n",
       "4                                False  \n",
       "...                                ...  \n",
       "76188                            False  \n",
       "76189                            False  \n",
       "76190                             True  \n",
       "76191                            False  \n",
       "76192                            False  \n",
       "\n",
       "[76193 rows x 3 columns]"
      ]
     },
     "execution_count": 812,
     "metadata": {},
     "output_type": "execute_result"
    }
   ],
   "source": [
    "one_hot_encoder_vars = ['Type of Travel', 'Gender', 'Customer Type']\n",
    "validation_df = pd.get_dummies(validation_df, columns=one_hot_encoder_vars, drop_first=True)\n",
    "train_df = pd.get_dummies(train_df, columns=one_hot_encoder_vars, drop_first=True)\n",
    "train_df[['Type of Travel_Personal Travel', 'Gender_Male',  'Customer Type_disloyal Customer']]"
   ]
  },
  {
   "cell_type": "markdown",
   "metadata": {},
   "source": [
    "# Ordinal Enconding"
   ]
  },
  {
   "cell_type": "code",
   "execution_count": 813,
   "metadata": {},
   "outputs": [
    {
     "name": "stdout",
     "output_type": "stream",
     "text": [
      "Before Encoding:  [['Eco']\n",
      " ['Business']\n",
      " ['Eco']\n",
      " ...\n",
      " ['Eco']\n",
      " ['Business']\n",
      " ['Eco Plus']]\n",
      "After Encoding:  [[0]\n",
      " [2]\n",
      " [0]\n",
      " ...\n",
      " [0]\n",
      " [2]\n",
      " [1]]\n"
     ]
    }
   ],
   "source": [
    "classes_dict = {\n",
    "    'Eco': 0,\n",
    "    'Eco Plus': 1,\n",
    "    'Business': 2\n",
    "}\n",
    "def ord_encode(x):\n",
    "    return classes_dict[x]\n",
    "\n",
    "ordinal_encoder_vars = ['Class']\n",
    "print('Before Encoding: ', train_df[ordinal_encoder_vars].values)\n",
    "train_df[ordinal_encoder_vars] = train_df[ordinal_encoder_vars].map(ord_encode)\n",
    "print('After Encoding: ', train_df[ordinal_encoder_vars].values)"
   ]
  },
  {
   "cell_type": "markdown",
   "metadata": {},
   "source": [
    "## Binning"
   ]
  },
  {
   "cell_type": "code",
   "execution_count": 814,
   "metadata": {},
   "outputs": [
    {
     "data": {
      "image/png": "[encoded data removed]",
      "text/plain": [
       "<Figure size 2500x827 with 4 Axes>"
      ]
     },
     "metadata": {},
     "output_type": "display_data"
    }
   ],
   "source": [
    "binning_vars = ['Age', 'Departure Delay in Minutes', 'Arrival Delay in Minutes', 'Flight Distance']\n",
    "\n",
    "fig, (ax1, ax2, ax3, ax4) = plt.subplots(1, 4)\n",
    "\n",
    "fig.set_figwidth(25)\n",
    "fig.suptitle('Numerical columns')\n",
    "\n",
    "ax1.set_title('Age')\n",
    "ax1.set(xlabel='Years', ylabel='Freq')\n",
    "ax1.hist(train_df['Age'])\n",
    "\n",
    "ax2.set_title('Departure Delay')\n",
    "ax2.set(xlabel='Minutes', ylabel='Freq')\n",
    "ax2.hist(train_df['Departure Delay in Minutes'])\n",
    "\n",
    "ax3.set_title('Arrival Delay')\n",
    "ax3.set(xlabel='Minutes', ylabel='Freq')\n",
    "ax3.hist(train_df['Arrival Delay in Minutes'])\n",
    "\n",
    "ax4.set_title('Flight Distance')\n",
    "ax4.set(xlabel='Km', ylabel='Freq')\n",
    "ax4.hist(train_df['Flight Distance'])\n",
    "\n",
    "plt.show()"
   ]
  },
  {
   "cell_type": "code",
   "execution_count": 815,
   "metadata": {},
   "outputs": [],
   "source": [
    "def binning(column: str, method: str):\n",
    "    # 4 bins\n",
    "    if method == 'distance':\n",
    "        boundary = math.ceil((train_df[column].max()- train_df[column].min())/4)\n",
    "    elif method == 'frequency':\n",
    "        freq = len(train_df[column])/4\n",
    "        print(freq)\n",
    "        return\n",
    "    \n",
    "    print(f'{column} boundary to split: ', boundary)\n",
    "\n",
    "    bins_means = [math.ceil(train_df[(train_df[column] >= boundary*i) & (train_df[column] < boundary*(i+1))][column].mean()) for i in range(4)]\n",
    "    print('Bin means: ', bins_means)\n",
    "\n",
    "    def binnign_method(age) -> int:\n",
    "\n",
    "        if np.isnan(age):\n",
    "            return np.nan\n",
    "        \n",
    "        if age < boundary:\n",
    "            return bins_means[0]\n",
    "        \n",
    "        if age < 2*boundary:\n",
    "            return bins_means[1]\n",
    "        \n",
    "        if age < 3*boundary:\n",
    "            return bins_means[2]\n",
    "        \n",
    "        if age < 4*boundary:\n",
    "            return bins_means[3]\n",
    "\n",
    "    print(f'{column} before binning: ', train_df[column].head(5))\n",
    "    train_df[column] = train_df[column].map(binnign_method)\n",
    "    validation_df[column] = validation_df[column].map(binnign_method)\n",
    "    print(f'{column} before binning: ', train_df[column].head(5))"
   ]
  },
  {
   "cell_type": "markdown",
   "metadata": {},
   "source": [
    "### Age"
   ]
  },
  {
   "cell_type": "code",
   "execution_count": 816,
   "metadata": {},
   "outputs": [
    {
     "name": "stdout",
     "output_type": "stream",
     "text": [
      "Age boundary to split:  19\n",
      "Bin means:  [14, 29, 47, 63]\n",
      "Age before binning:  0    22\n",
      "1    37\n",
      "2     8\n",
      "3    21\n",
      "4    62\n",
      "Name: Age, dtype: int64\n",
      "Age before binning:  0    29.0\n",
      "1    29.0\n",
      "2    14.0\n",
      "3    29.0\n",
      "4    63.0\n",
      "Name: Age, dtype: float64\n"
     ]
    }
   ],
   "source": [
    "binning(column='Age', method='distance')"
   ]
  },
  {
   "cell_type": "markdown",
   "metadata": {},
   "source": [
    "### Departure Delay"
   ]
  },
  {
   "cell_type": "code",
   "execution_count": 817,
   "metadata": {},
   "outputs": [
    {
     "name": "stdout",
     "output_type": "stream",
     "text": [
      "Departure Delay in Minutes boundary to split:  33\n",
      "Bin means:  [4, 47, 81, 113]\n",
      "Departure Delay in Minutes before binning:  0     0\n",
      "1    85\n",
      "2     0\n",
      "3     0\n",
      "4     5\n",
      "Name: Departure Delay in Minutes, dtype: int64\n",
      "Departure Delay in Minutes before binning:  0     4\n",
      "1    81\n",
      "2     4\n",
      "3     4\n",
      "4     4\n",
      "Name: Departure Delay in Minutes, dtype: int64\n"
     ]
    }
   ],
   "source": [
    "binning(column='Departure Delay in Minutes', method='distance')"
   ]
  },
  {
   "cell_type": "markdown",
   "metadata": {},
   "source": [
    "### Arrival Delay"
   ]
  },
  {
   "cell_type": "code",
   "execution_count": 818,
   "metadata": {},
   "outputs": [
    {
     "name": "stdout",
     "output_type": "stream",
     "text": [
      "Arrival Delay in Minutes boundary to split:  85\n",
      "Bin means:  [9, 107, 192, 337]\n",
      "Arrival Delay in Minutes before binning:  0     6.0\n",
      "1    83.0\n",
      "2     0.0\n",
      "3     0.0\n",
      "4     2.0\n",
      "Name: Arrival Delay in Minutes, dtype: float64\n",
      "Arrival Delay in Minutes before binning:  0    9.0\n",
      "1    9.0\n",
      "2    9.0\n",
      "3    9.0\n",
      "4    9.0\n",
      "Name: Arrival Delay in Minutes, dtype: float64\n"
     ]
    }
   ],
   "source": [
    "binning(column='Arrival Delay in Minutes', method='distance')"
   ]
  },
  {
   "cell_type": "code",
   "execution_count": 819,
   "metadata": {},
   "outputs": [
    {
     "data": {
      "text/html": [
       "<div>\n",
       "<style scoped>\n",
       "    .dataframe tbody tr th:only-of-type {\n",
       "        vertical-align: middle;\n",
       "    }\n",
       "\n",
       "    .dataframe tbody tr th {\n",
       "        vertical-align: top;\n",
       "    }\n",
       "\n",
       "    .dataframe thead th {\n",
       "        text-align: right;\n",
       "    }\n",
       "</style>\n",
       "<table border=\"1\" class=\"dataframe\">\n",
       "  <thead>\n",
       "    <tr style=\"text-align: right;\">\n",
       "      <th></th>\n",
       "      <th>Age</th>\n",
       "      <th>Class</th>\n",
       "      <th>Flight Distance</th>\n",
       "      <th>Inflight wifi service</th>\n",
       "      <th>Departure/Arrival time convenient</th>\n",
       "      <th>Ease of Online booking</th>\n",
       "      <th>Gate location</th>\n",
       "      <th>Food and drink</th>\n",
       "      <th>Online boarding</th>\n",
       "      <th>Seat comfort</th>\n",
       "      <th>Inflight entertainment</th>\n",
       "      <th>On-board service</th>\n",
       "      <th>Leg room service</th>\n",
       "      <th>Baggage handling</th>\n",
       "      <th>Checkin service</th>\n",
       "      <th>Inflight service</th>\n",
       "      <th>Cleanliness</th>\n",
       "      <th>Departure Delay in Minutes</th>\n",
       "      <th>Arrival Delay in Minutes</th>\n",
       "    </tr>\n",
       "  </thead>\n",
       "  <tbody>\n",
       "    <tr>\n",
       "      <th>count</th>\n",
       "      <td>75978.000000</td>\n",
       "      <td>76193.000000</td>\n",
       "      <td>76193.000000</td>\n",
       "      <td>76193.000000</td>\n",
       "      <td>76193.000000</td>\n",
       "      <td>76193.000000</td>\n",
       "      <td>76193.000000</td>\n",
       "      <td>76193.000000</td>\n",
       "      <td>76193.000000</td>\n",
       "      <td>76193.000000</td>\n",
       "      <td>76193.000000</td>\n",
       "      <td>76193.000000</td>\n",
       "      <td>76193.000000</td>\n",
       "      <td>76193.000000</td>\n",
       "      <td>76193.000000</td>\n",
       "      <td>76193.000000</td>\n",
       "      <td>76193.000000</td>\n",
       "      <td>76193.000000</td>\n",
       "      <td>75983.000000</td>\n",
       "    </tr>\n",
       "    <tr>\n",
       "      <th>mean</th>\n",
       "      <td>39.974506</td>\n",
       "      <td>1.026853</td>\n",
       "      <td>1187.051895</td>\n",
       "      <td>2.730631</td>\n",
       "      <td>3.059796</td>\n",
       "      <td>2.753678</td>\n",
       "      <td>2.975076</td>\n",
       "      <td>3.205859</td>\n",
       "      <td>3.248566</td>\n",
       "      <td>3.441760</td>\n",
       "      <td>3.361674</td>\n",
       "      <td>3.388080</td>\n",
       "      <td>3.345097</td>\n",
       "      <td>3.633195</td>\n",
       "      <td>3.303204</td>\n",
       "      <td>3.649259</td>\n",
       "      <td>3.285892</td>\n",
       "      <td>10.756434</td>\n",
       "      <td>11.499520</td>\n",
       "    </tr>\n",
       "    <tr>\n",
       "      <th>std</th>\n",
       "      <td>14.050906</td>\n",
       "      <td>0.962966</td>\n",
       "      <td>993.369870</td>\n",
       "      <td>1.326875</td>\n",
       "      <td>1.524249</td>\n",
       "      <td>1.396502</td>\n",
       "      <td>1.276615</td>\n",
       "      <td>1.329102</td>\n",
       "      <td>1.348694</td>\n",
       "      <td>1.318502</td>\n",
       "      <td>1.334976</td>\n",
       "      <td>1.289067</td>\n",
       "      <td>1.319608</td>\n",
       "      <td>1.182449</td>\n",
       "      <td>1.263573</td>\n",
       "      <td>1.173627</td>\n",
       "      <td>1.312384</td>\n",
       "      <td>20.476518</td>\n",
       "      <td>15.698952</td>\n",
       "    </tr>\n",
       "    <tr>\n",
       "      <th>min</th>\n",
       "      <td>14.000000</td>\n",
       "      <td>0.000000</td>\n",
       "      <td>31.000000</td>\n",
       "      <td>0.000000</td>\n",
       "      <td>0.000000</td>\n",
       "      <td>0.000000</td>\n",
       "      <td>1.000000</td>\n",
       "      <td>0.000000</td>\n",
       "      <td>0.000000</td>\n",
       "      <td>1.000000</td>\n",
       "      <td>0.000000</td>\n",
       "      <td>0.000000</td>\n",
       "      <td>0.000000</td>\n",
       "      <td>1.000000</td>\n",
       "      <td>1.000000</td>\n",
       "      <td>0.000000</td>\n",
       "      <td>0.000000</td>\n",
       "      <td>4.000000</td>\n",
       "      <td>9.000000</td>\n",
       "    </tr>\n",
       "    <tr>\n",
       "      <th>25%</th>\n",
       "      <td>29.000000</td>\n",
       "      <td>0.000000</td>\n",
       "      <td>413.000000</td>\n",
       "      <td>2.000000</td>\n",
       "      <td>2.000000</td>\n",
       "      <td>2.000000</td>\n",
       "      <td>2.000000</td>\n",
       "      <td>2.000000</td>\n",
       "      <td>2.000000</td>\n",
       "      <td>2.000000</td>\n",
       "      <td>2.000000</td>\n",
       "      <td>2.000000</td>\n",
       "      <td>2.000000</td>\n",
       "      <td>3.000000</td>\n",
       "      <td>3.000000</td>\n",
       "      <td>3.000000</td>\n",
       "      <td>2.000000</td>\n",
       "      <td>4.000000</td>\n",
       "      <td>9.000000</td>\n",
       "    </tr>\n",
       "    <tr>\n",
       "      <th>50%</th>\n",
       "      <td>47.000000</td>\n",
       "      <td>1.000000</td>\n",
       "      <td>842.000000</td>\n",
       "      <td>3.000000</td>\n",
       "      <td>3.000000</td>\n",
       "      <td>3.000000</td>\n",
       "      <td>3.000000</td>\n",
       "      <td>3.000000</td>\n",
       "      <td>3.000000</td>\n",
       "      <td>4.000000</td>\n",
       "      <td>4.000000</td>\n",
       "      <td>4.000000</td>\n",
       "      <td>4.000000</td>\n",
       "      <td>4.000000</td>\n",
       "      <td>3.000000</td>\n",
       "      <td>4.000000</td>\n",
       "      <td>3.000000</td>\n",
       "      <td>4.000000</td>\n",
       "      <td>9.000000</td>\n",
       "    </tr>\n",
       "    <tr>\n",
       "      <th>75%</th>\n",
       "      <td>47.000000</td>\n",
       "      <td>2.000000</td>\n",
       "      <td>1744.000000</td>\n",
       "      <td>4.000000</td>\n",
       "      <td>4.000000</td>\n",
       "      <td>4.000000</td>\n",
       "      <td>4.000000</td>\n",
       "      <td>4.000000</td>\n",
       "      <td>4.000000</td>\n",
       "      <td>5.000000</td>\n",
       "      <td>4.000000</td>\n",
       "      <td>4.000000</td>\n",
       "      <td>4.000000</td>\n",
       "      <td>5.000000</td>\n",
       "      <td>4.000000</td>\n",
       "      <td>5.000000</td>\n",
       "      <td>4.000000</td>\n",
       "      <td>4.000000</td>\n",
       "      <td>9.000000</td>\n",
       "    </tr>\n",
       "    <tr>\n",
       "      <th>max</th>\n",
       "      <td>63.000000</td>\n",
       "      <td>2.000000</td>\n",
       "      <td>4000.000000</td>\n",
       "      <td>5.000000</td>\n",
       "      <td>5.000000</td>\n",
       "      <td>5.000000</td>\n",
       "      <td>5.000000</td>\n",
       "      <td>5.000000</td>\n",
       "      <td>5.000000</td>\n",
       "      <td>5.000000</td>\n",
       "      <td>5.000000</td>\n",
       "      <td>5.000000</td>\n",
       "      <td>5.000000</td>\n",
       "      <td>5.000000</td>\n",
       "      <td>5.000000</td>\n",
       "      <td>5.000000</td>\n",
       "      <td>5.000000</td>\n",
       "      <td>113.000000</td>\n",
       "      <td>337.000000</td>\n",
       "    </tr>\n",
       "  </tbody>\n",
       "</table>\n",
       "</div>"
      ],
      "text/plain": [
       "                Age         Class  Flight Distance  Inflight wifi service  \\\n",
       "count  75978.000000  76193.000000     76193.000000           76193.000000   \n",
       "mean      39.974506      1.026853      1187.051895               2.730631   \n",
       "std       14.050906      0.962966       993.369870               1.326875   \n",
       "min       14.000000      0.000000        31.000000               0.000000   \n",
       "25%       29.000000      0.000000       413.000000               2.000000   \n",
       "50%       47.000000      1.000000       842.000000               3.000000   \n",
       "75%       47.000000      2.000000      1744.000000               4.000000   \n",
       "max       63.000000      2.000000      4000.000000               5.000000   \n",
       "\n",
       "       Departure/Arrival time convenient  Ease of Online booking  \\\n",
       "count                       76193.000000            76193.000000   \n",
       "mean                            3.059796                2.753678   \n",
       "std                             1.524249                1.396502   \n",
       "min                             0.000000                0.000000   \n",
       "25%                             2.000000                2.000000   \n",
       "50%                             3.000000                3.000000   \n",
       "75%                             4.000000                4.000000   \n",
       "max                             5.000000                5.000000   \n",
       "\n",
       "       Gate location  Food and drink  Online boarding  Seat comfort  \\\n",
       "count   76193.000000    76193.000000     76193.000000  76193.000000   \n",
       "mean        2.975076        3.205859         3.248566      3.441760   \n",
       "std         1.276615        1.329102         1.348694      1.318502   \n",
       "min         1.000000        0.000000         0.000000      1.000000   \n",
       "25%         2.000000        2.000000         2.000000      2.000000   \n",
       "50%         3.000000        3.000000         3.000000      4.000000   \n",
       "75%         4.000000        4.000000         4.000000      5.000000   \n",
       "max         5.000000        5.000000         5.000000      5.000000   \n",
       "\n",
       "       Inflight entertainment  On-board service  Leg room service  \\\n",
       "count            76193.000000      76193.000000      76193.000000   \n",
       "mean                 3.361674          3.388080          3.345097   \n",
       "std                  1.334976          1.289067          1.319608   \n",
       "min                  0.000000          0.000000          0.000000   \n",
       "25%                  2.000000          2.000000          2.000000   \n",
       "50%                  4.000000          4.000000          4.000000   \n",
       "75%                  4.000000          4.000000          4.000000   \n",
       "max                  5.000000          5.000000          5.000000   \n",
       "\n",
       "       Baggage handling  Checkin service  Inflight service   Cleanliness  \\\n",
       "count      76193.000000     76193.000000      76193.000000  76193.000000   \n",
       "mean           3.633195         3.303204          3.649259      3.285892   \n",
       "std            1.182449         1.263573          1.173627      1.312384   \n",
       "min            1.000000         1.000000          0.000000      0.000000   \n",
       "25%            3.000000         3.000000          3.000000      2.000000   \n",
       "50%            4.000000         3.000000          4.000000      3.000000   \n",
       "75%            5.000000         4.000000          5.000000      4.000000   \n",
       "max            5.000000         5.000000          5.000000      5.000000   \n",
       "\n",
       "       Departure Delay in Minutes  Arrival Delay in Minutes  \n",
       "count                76193.000000              75983.000000  \n",
       "mean                    10.756434                 11.499520  \n",
       "std                     20.476518                 15.698952  \n",
       "min                      4.000000                  9.000000  \n",
       "25%                      4.000000                  9.000000  \n",
       "50%                      4.000000                  9.000000  \n",
       "75%                      4.000000                  9.000000  \n",
       "max                    113.000000                337.000000  "
      ]
     },
     "execution_count": 819,
     "metadata": {},
     "output_type": "execute_result"
    }
   ],
   "source": [
    "train_df.describe()"
   ]
  },
  {
   "cell_type": "markdown",
   "metadata": {},
   "source": [
    "# Missing Values"
   ]
  },
  {
   "cell_type": "code",
   "execution_count": 820,
   "metadata": {},
   "outputs": [
    {
     "name": "stdout",
     "output_type": "stream",
     "text": [
      "Index(['Age', 'Arrival Delay in Minutes'], dtype='object')\n",
      "Index([], dtype='object')\n"
     ]
    }
   ],
   "source": [
    "# sns.heatmap(train_df.isnull(), cbar=False)\n",
    "print(train_df.columns[train_df.isnull().any()])\n",
    "columns = train_df.columns[train_df.isnull().any()]\n",
    "train_df[columns] = train_df[columns].fillna(train_df[columns].median())\n",
    "print(train_df.columns[train_df.isnull().any()])"
   ]
  },
  {
   "cell_type": "code",
   "execution_count": 821,
   "metadata": {},
   "outputs": [
    {
     "name": "stdout",
     "output_type": "stream",
     "text": [
      "Index(['Age', 'Departure Delay in Minutes', 'Arrival Delay in Minutes'], dtype='object')\n"
     ]
    },
    {
     "data": {
      "text/plain": [
       "Index([], dtype='object')"
      ]
     },
     "execution_count": 821,
     "metadata": {},
     "output_type": "execute_result"
    }
   ],
   "source": [
    "# sns.heatmap(validation_df.isnull(), cbar=False)\n",
    "print(validation_df.columns[validation_df.isnull().any()])\n",
    "columns = validation_df.columns[validation_df.isnull().any()]\n",
    "\n",
    "#substituindo pela mediana do conjunto de teste\n",
    "validation_df[columns] = validation_df[columns].fillna(train_df[columns].median())\n",
    "validation_df.columns[validation_df.isnull().any()]"
   ]
  },
  {
   "cell_type": "markdown",
   "metadata": {},
   "source": [
    "# Min Max Scaling TODO"
   ]
  },
  {
   "cell_type": "markdown",
   "metadata": {},
   "source": [
    "# OverSampling"
   ]
  },
  {
   "cell_type": "code",
   "execution_count": 822,
   "metadata": {},
   "outputs": [],
   "source": [
    "def overSampling(x, y):\n",
    "  ros = RandomOverSampler(\n",
    "    sampling_strategy='auto',\n",
    "    random_state=0,\n",
    "  )\n",
    "  return ros.fit_resample(x,y)\n",
    "\n",
    "def printClassDistributionRate(y):\n",
    "  print('total: ',len(y))\n",
    "  print('satisfied: ', len(y[y['satisfaction'] == 'satisfied']), ' not satisfied: ', len(y[y['satisfaction'] != 'satisfied']))\n",
    "  print('satisfied: ', len(y[y['satisfaction'] == 'satisfied'])/len(y), ' not satisfied: ', len(y[y['satisfaction'] != 'satisfied'])/len(y), '\\n')"
   ]
  },
  {
   "cell_type": "code",
   "execution_count": 823,
   "metadata": {},
   "outputs": [
    {
     "name": "stdout",
     "output_type": "stream",
     "text": [
      "total:  76193\n",
      "satisfied:  33112  not satisfied:  43081\n",
      "satisfied:  0.4345806045174754  not satisfied:  0.5654193954825246 \n",
      "\n",
      "total:  86162\n",
      "satisfied:  43081  not satisfied:  43081\n",
      "satisfied:  0.5  not satisfied:  0.5 \n",
      "\n"
     ]
    }
   ],
   "source": [
    "x_train_df = train_df.drop(columns='satisfaction')\n",
    "y_train_df = train_df[['satisfaction']]\n",
    "\n",
    "printClassDistributionRate(y_train_df)\n",
    "\n",
    "x_train_df, y_train_df = overSampling(x_train_df, y_train_df )\n",
    "\n",
    "printClassDistributionRate(y_train_df)"
   ]
  },
  {
   "cell_type": "code",
   "execution_count": 824,
   "metadata": {},
   "outputs": [
    {
     "name": "stdout",
     "output_type": "stream",
     "text": [
      "total:  25976\n",
      "satisfied:  11256  not satisfied:  14720\n",
      "satisfied:  0.43332306744687404  not satisfied:  0.566676932553126 \n",
      "\n",
      "total:  29440\n",
      "satisfied:  14720  not satisfied:  14720\n",
      "satisfied:  0.5  not satisfied:  0.5 \n",
      "\n"
     ]
    }
   ],
   "source": [
    "x_validation_df = validation_df.drop(columns='satisfaction')\n",
    "y_validation_df = validation_df[['satisfaction']]\n",
    "\n",
    "printClassDistributionRate(y_validation_df)\n",
    "\n",
    "x_validation_df, y_validation_df = overSampling(x_validation_df, y_validation_df )\n",
    "\n",
    "printClassDistributionRate(y_validation_df)"
   ]
  },
  {
   "cell_type": "markdown",
   "metadata": {},
   "source": [
    "# Correlation Matrix"
   ]
  },
  {
   "cell_type": "code",
   "execution_count": 825,
   "metadata": {},
   "outputs": [
    {
     "name": "stderr",
     "output_type": "stream",
     "text": [
      "C:\\Users\\lucca\\AppData\\Local\\Temp\\ipykernel_14468\\4006740798.py:3: FutureWarning: In the future `np.bool` will be defined as the corresponding NumPy scalar.\n",
      "  mask = np.zeros_like(corr, dtype=np.bool)\n"
     ]
    },
    {
     "ename": "AttributeError",
     "evalue": "module 'numpy' has no attribute 'bool'.\n`np.bool` was a deprecated alias for the builtin `bool`. To avoid this error in existing code, use `bool` by itself. Doing this will not modify any behavior and is safe. If you specifically wanted the numpy scalar type, use `np.bool_` here.\nThe aliases was originally deprecated in NumPy 1.20; for more details and guidance see the original release note at:\n    https://numpy.org/devdocs/release/1.20.0-notes.html#deprecations",
     "output_type": "error",
     "traceback": [
      "\u001b[1;31m---------------------------------------------------------------------------\u001b[0m",
      "\u001b[1;31mAttributeError\u001b[0m                            Traceback (most recent call last)",
      "Cell \u001b[1;32mIn[825], line 3\u001b[0m\n\u001b[0;32m      1\u001b[0m corr \u001b[38;5;241m=\u001b[39m x_train_df\u001b[38;5;241m.\u001b[39mcorr(method\u001b[38;5;241m=\u001b[39m\u001b[38;5;124m'\u001b[39m\u001b[38;5;124mspearman\u001b[39m\u001b[38;5;124m'\u001b[39m)\n\u001b[0;32m      2\u001b[0m \u001b[38;5;66;03m# Generate a mask for the upper triangle\u001b[39;00m\n\u001b[1;32m----> 3\u001b[0m mask \u001b[38;5;241m=\u001b[39m np\u001b[38;5;241m.\u001b[39mzeros_like(corr, dtype\u001b[38;5;241m=\u001b[39m\u001b[43mnp\u001b[49m\u001b[38;5;241;43m.\u001b[39;49m\u001b[43mbool\u001b[49m)\n\u001b[0;32m      4\u001b[0m mask[np\u001b[38;5;241m.\u001b[39mtriu_indices_from(mask)] \u001b[38;5;241m=\u001b[39m \u001b[38;5;28;01mTrue\u001b[39;00m\n\u001b[0;32m      6\u001b[0m \u001b[38;5;66;03m# Set up the matplotlib figure\u001b[39;00m\n",
      "File \u001b[1;32m~\\AppData\\Local\\Packages\\PythonSoftwareFoundation.Python.3.12_qbz5n2kfra8p0\\LocalCache\\local-packages\\Python312\\site-packages\\numpy\\__init__.py:338\u001b[0m, in \u001b[0;36m__getattr__\u001b[1;34m(attr)\u001b[0m\n\u001b[0;32m    333\u001b[0m     warnings\u001b[38;5;241m.\u001b[39mwarn(\n\u001b[0;32m    334\u001b[0m         \u001b[38;5;124mf\u001b[39m\u001b[38;5;124m\"\u001b[39m\u001b[38;5;124mIn the future `np.\u001b[39m\u001b[38;5;132;01m{\u001b[39;00mattr\u001b[38;5;132;01m}\u001b[39;00m\u001b[38;5;124m` will be defined as the \u001b[39m\u001b[38;5;124m\"\u001b[39m\n\u001b[0;32m    335\u001b[0m         \u001b[38;5;124m\"\u001b[39m\u001b[38;5;124mcorresponding NumPy scalar.\u001b[39m\u001b[38;5;124m\"\u001b[39m, \u001b[38;5;167;01mFutureWarning\u001b[39;00m, stacklevel\u001b[38;5;241m=\u001b[39m\u001b[38;5;241m2\u001b[39m)\n\u001b[0;32m    337\u001b[0m \u001b[38;5;28;01mif\u001b[39;00m attr \u001b[38;5;129;01min\u001b[39;00m __former_attrs__:\n\u001b[1;32m--> 338\u001b[0m     \u001b[38;5;28;01mraise\u001b[39;00m \u001b[38;5;167;01mAttributeError\u001b[39;00m(__former_attrs__[attr])\n\u001b[0;32m    340\u001b[0m \u001b[38;5;28;01mif\u001b[39;00m attr \u001b[38;5;241m==\u001b[39m \u001b[38;5;124m'\u001b[39m\u001b[38;5;124mtesting\u001b[39m\u001b[38;5;124m'\u001b[39m:\n\u001b[0;32m    341\u001b[0m     \u001b[38;5;28;01mimport\u001b[39;00m \u001b[38;5;21;01mnumpy\u001b[39;00m\u001b[38;5;21;01m.\u001b[39;00m\u001b[38;5;21;01mtesting\u001b[39;00m \u001b[38;5;28;01mas\u001b[39;00m \u001b[38;5;21;01mtesting\u001b[39;00m\n",
      "\u001b[1;31mAttributeError\u001b[0m: module 'numpy' has no attribute 'bool'.\n`np.bool` was a deprecated alias for the builtin `bool`. To avoid this error in existing code, use `bool` by itself. Doing this will not modify any behavior and is safe. If you specifically wanted the numpy scalar type, use `np.bool_` here.\nThe aliases was originally deprecated in NumPy 1.20; for more details and guidance see the original release note at:\n    https://numpy.org/devdocs/release/1.20.0-notes.html#deprecations"
     ]
    }
   ],
   "source": [
    "corr = x_train_df.corr(method='spearman')\n",
    "# Generate a mask for the upper triangle\n",
    "mask = np.zeros_like(corr, dtype=np.bool)\n",
    "mask[np.triu_indices_from(mask)] = True\n",
    "\n",
    "# Set up the matplotlib figure\n",
    "f, ax = plt.subplots(figsize=(20, 18))\n",
    "\n",
    "# Draw the heatmap with the mask and correct aspect ratio\n",
    "sns.heatmap(corr, annot = True, mask=mask, cmap=\"YlGnBu\", center=0,\n",
    "            square=True, linewidths=.5)"
   ]
  }
 ],
 "metadata": {
  "kernelspec": {
   "display_name": ".venv",
   "language": "python",
   "name": "python3"
  },
  "language_info": {
   "codemirror_mode": {
    "name": "ipython",
    "version": 3
   },
   "file_extension": ".py",
   "mimetype": "text/x-python",
   "name": "python",
   "nbconvert_exporter": "python",
   "pygments_lexer": "ipython3",
   "version": "3.11.9"
  }
 },
 "nbformat": 4,
 "nbformat_minor": 2
}
